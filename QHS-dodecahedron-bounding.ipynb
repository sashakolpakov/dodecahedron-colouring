{
 "cells": [
  {
   "cell_type": "code",
   "execution_count": 1,
   "metadata": {},
   "outputs": [],
   "source": [
    "#\n",
    "# need itertools to run the code below\n",
    "#\n",
    "import itertools"
   ]
  },
  {
   "cell_type": "code",
   "execution_count": 2,
   "metadata": {},
   "outputs": [],
   "source": [
    "#\n",
    "# icosahedron = dual simplicial complex to the dodecahedron\n",
    "#\n",
    "Icosahedron = SimplicialComplex([[0,1,2],\n",
    "                                 [0,1,3],\n",
    "                                 [0,2,4],\n",
    "                                 [1,2,6],\n",
    "                                 [0,3,5],\n",
    "                                 [0,4,5],\n",
    "                                 [1,3,7],\n",
    "                                 [1,6,7],\n",
    "                                 [2,4,8],\n",
    "                                 [2,6,8],\n",
    "                                 [4,5,10],\n",
    "                                 [4,8,10],\n",
    "                                 [3,5,9],\n",
    "                                 [3,7,9],\n",
    "                                 [6,7,11],\n",
    "                                 [6,8,11],\n",
    "                                 [5,9,10],\n",
    "                                 [7,9,11],\n",
    "                                 [8,10,11],\n",
    "                                 [9,10,11]])\n",
    "#\n",
    "# 1-skeleton of the icosahedron\n",
    "#\n",
    "Skeleton = Icosahedron.graph()"
   ]
  },
  {
   "cell_type": "code",
   "execution_count": 3,
   "metadata": {},
   "outputs": [],
   "source": [
    "#\n",
    "# all possible ZZ^4_2 colours\n",
    "#\n",
    "Colours = [(1,0,0,0), #0\n",
    "           (0,1,0,0), #1\n",
    "           (0,0,1,0), #2\n",
    "           (0,0,0,1), #3\n",
    "           (1,1,0,0), #4\n",
    "           (1,0,1,0), #5\n",
    "           (1,0,0,1), #6\n",
    "           (0,1,1,0), #7\n",
    "           (0,1,0,1), #8\n",
    "           (0,0,1,1), #9\n",
    "           (0,1,1,1), #10\n",
    "           (1,0,1,1), #11\n",
    "           (1,1,0,1), #12\n",
    "           (1,1,1,0), #13\n",
    "           (1,1,1,1)] #14\n",
    "Colours = [vector(GF(2), v) for v in Colours]\n",
    "#\n",
    "# the base colouring to extend: the only orientable small cover of the right-angled\n",
    "# dodecahedron found by Garrison and Scott in \"Small Covers of the Dodecahedron and \n",
    "# the 120-cell\" that is QHS\n",
    "#\n",
    "Base = [[1, 0, 0, 0, 0, 1, 1, 1, 1, 1, 0, 0],\n",
    "        [0, 1, 0, 0, 1, 1, 0, 1, 1, 0, 0, 1],\n",
    "        [0, 0, 1, 1, 0, 1, 0, 1, 1, 0, 1, 0]]\n",
    "#\n",
    "# defining matrix of the base colouring\n",
    "#\n",
    "L0 = matrix(GF(2), Base)\n",
    "#\n",
    "# itw row space\n",
    "#\n",
    "Row = L0.row_space().list()\n",
    "#\n",
    "# cardinality of the row space\n",
    "#\n",
    "num_vectors = len(Row) \n",
    "#\n",
    "# dimension of the simplicial complex = 2\n",
    "#\n",
    "n = dimension(Icosahedron)\n",
    "#\n",
    "# number of vertices of the icosahedron = dual simplicial complex to the dodecahedron\n",
    "#\n",
    "num_vertices = 12 \n",
    "#\n",
    "# the row vector space for the defining matrices of colourings\n",
    "#\n",
    "V = VectorSpace(GF(2), num_vertices).list()"
   ]
  },
  {
   "cell_type": "code",
   "execution_count": 4,
   "metadata": {},
   "outputs": [
    {
     "name": "stdout",
     "output_type": "stream",
     "text": [
      "Found 53 QHS extensions\n"
     ]
    }
   ],
   "source": [
    "#\n",
    "# looking for possible QHS extensions\n",
    "#\n",
    "QHS_extensions = []\n",
    "for v in V:\n",
    "    if not(v in Row) and (tuple(v[:3])==(0,0,0)):\n",
    "        count = 0\n",
    "        for vector in Row:\n",
    "            test = []\n",
    "            for i in range(num_vertices):\n",
    "                if v[i]+vector[i]==1:\n",
    "                    test.append(i)\n",
    "            if not(Skeleton.subgraph(test).is_connected()):\n",
    "                break\n",
    "            else:\n",
    "                count = count + 1\n",
    "        if count==num_vectors:\n",
    "            L = matrix(GF(2),Base+[v])\n",
    "            colouring = []\n",
    "            for i in range(num_vertices):\n",
    "                colour = L.column(i)\n",
    "                colouring.append(Colours.index(colour))\n",
    "            QHS_extensions.append(colouring)\n",
    "# How many possible QHS extensions in total? (should be 53)\n",
    "print('Found {} QHS extensions'.format(len(QHS_extensions)))"
   ]
  },
  {
   "cell_type": "code",
   "execution_count": 5,
   "metadata": {},
   "outputs": [],
   "source": [
    "#\n",
    "# the group of symmetries of the regular dodecahedron / icosahedron\n",
    "#\n",
    "Gamma = Icosahedron.automorphism_group()\n",
    "#\n",
    "# colourings DJ-equivalent to v under the action of symmetry g \n",
    "# (if exist, othervise returns an empty list)\n",
    "#\n",
    "def DJ_equivalence(g, v):\n",
    "    num_vertices = 12   # number of vertices of the icosahedron \n",
    "    num_colours = 15    # number of colours used = 2^4 - 1\n",
    "    equiv = []\n",
    "    for col in Colours:\n",
    "        L0 = matrix(GF(2), [Colours[v[g(0)]], Colours[v[g(1)]], Colours[v[g(2)]], col]).transpose()\n",
    "        if L0.det()!=0:\n",
    "            L = L0.inverse()\n",
    "            lst = []\n",
    "            for i in range(num_vertices):\n",
    "                vec = L*Colours[v[g(i)]]\n",
    "                j = Colours.index(vec)\n",
    "                lst.append(j)\n",
    "            equiv.append(lst)\n",
    "    return equiv"
   ]
  },
  {
   "cell_type": "code",
   "execution_count": 6,
   "metadata": {},
   "outputs": [
    {
     "name": "stdout",
     "output_type": "stream",
     "text": [
      "Among them 7 DJ-equivalence classes\n"
     ]
    }
   ],
   "source": [
    "#\n",
    "# order of the symmetry group\n",
    "#\n",
    "sym_order = Gamma.order()\n",
    "#\n",
    "# finding representatives of DJ-equivalence classes among all possible QHS extensions\n",
    "# obtained before: here we need 1 representative of each equivalence class only\n",
    "#\n",
    "QHS_extension_classes = []\n",
    "for v in QHS_extensions:\n",
    "    count_equiv = 0\n",
    "    for g in Gamma:\n",
    "        equiv_g = DJ_equivalence(g, v)\n",
    "        num_equiv_g = len(equiv_g)\n",
    "        count_g = 0\n",
    "        for colouring in equiv_g:\n",
    "            if (colouring!=v) and (colouring in QHS_extension_classes):\n",
    "                break\n",
    "            else:\n",
    "                count_g = count_g + 1\n",
    "        if count_g==num_equiv_g:\n",
    "            count_equiv = count_equiv + 1\n",
    "    if count_equiv==sym_order:\n",
    "        QHS_extension_classes.append(v)\n",
    "# How many DJ-equivalence classes? (should be 7)\n",
    "print('Among them {} DJ-equivalence classes'.format(len(QHS_extension_classes)))"
   ]
  },
  {
   "cell_type": "code",
   "execution_count": 7,
   "metadata": {},
   "outputs": [],
   "source": [
    "#\n",
    "# looking for QHS with non-trivial coloured symmetries \n",
    "# in the list obtained above: there should be none\n",
    "#\n",
    "Sym_QHS = []\n",
    "for v in QHS_extension_classes:\n",
    "    sym = []\n",
    "    for g in Gamma:\n",
    "        equiv = DJ_equivalence(g, v)\n",
    "        for colouring in equiv:\n",
    "            if colouring==v:\n",
    "                sym.append(g)\n",
    "    Sym_QHS.append((v, Gamma.subgroup(sym)))"
   ]
  },
  {
   "cell_type": "code",
   "execution_count": 8,
   "metadata": {},
   "outputs": [
    {
     "name": "stdout",
     "output_type": "stream",
     "text": [
      "Colouring 1\n",
      "[0, 1, 2, 9, 8, 14, 6, 14, 13, 0, 2, 1]\n",
      "Defining matrix:\n",
      "[1 0 0 0 0 1 1 1 1 1 0 0]\n",
      "[0 1 0 0 1 1 0 1 1 0 0 1]\n",
      "[0 0 1 1 0 1 0 1 1 0 1 0]\n",
      "[0 0 0 1 1 1 1 1 0 0 0 0]\n",
      "-------------------------\n",
      "Coloured symmetries: 1\n",
      "%%%%%%%%%%%%%%%%%%%%%%%%%\n",
      "Colouring 2\n",
      "[0, 1, 2, 9, 1, 14, 0, 13, 13, 6, 2, 1]\n",
      "Defining matrix:\n",
      "[1 0 0 0 0 1 1 1 1 1 0 0]\n",
      "[0 1 0 0 1 1 0 1 1 0 0 1]\n",
      "[0 0 1 1 0 1 0 1 1 0 1 0]\n",
      "[0 0 0 1 0 1 0 0 0 1 0 0]\n",
      "-------------------------\n",
      "Coloured symmetries: C3\n",
      "%%%%%%%%%%%%%%%%%%%%%%%%%\n",
      "Colouring 3\n",
      "[0, 1, 2, 2, 8, 14, 0, 13, 13, 6, 2, 1]\n",
      "Defining matrix:\n",
      "[1 0 0 0 0 1 1 1 1 1 0 0]\n",
      "[0 1 0 0 1 1 0 1 1 0 0 1]\n",
      "[0 0 1 1 0 1 0 1 1 0 1 0]\n",
      "[0 0 0 0 1 1 0 0 0 1 0 0]\n",
      "-------------------------\n",
      "Coloured symmetries: 1\n",
      "%%%%%%%%%%%%%%%%%%%%%%%%%\n",
      "Colouring 4\n",
      "[0, 1, 2, 9, 8, 14, 0, 14, 13, 6, 2, 1]\n",
      "Defining matrix:\n",
      "[1 0 0 0 0 1 1 1 1 1 0 0]\n",
      "[0 1 0 0 1 1 0 1 1 0 0 1]\n",
      "[0 0 1 1 0 1 0 1 1 0 1 0]\n",
      "[0 0 0 1 1 1 0 1 0 1 0 0]\n",
      "-------------------------\n",
      "Coloured symmetries: C2\n",
      "%%%%%%%%%%%%%%%%%%%%%%%%%\n",
      "Colouring 5\n",
      "[0, 1, 2, 9, 8, 14, 0, 13, 14, 6, 2, 1]\n",
      "Defining matrix:\n",
      "[1 0 0 0 0 1 1 1 1 1 0 0]\n",
      "[0 1 0 0 1 1 0 1 1 0 0 1]\n",
      "[0 0 1 1 0 1 0 1 1 0 1 0]\n",
      "[0 0 0 1 1 1 0 0 1 1 0 0]\n",
      "-------------------------\n",
      "Coloured symmetries: 1\n",
      "%%%%%%%%%%%%%%%%%%%%%%%%%\n",
      "Colouring 6\n",
      "[0, 1, 2, 2, 8, 13, 6, 14, 14, 6, 2, 1]\n",
      "Defining matrix:\n",
      "[1 0 0 0 0 1 1 1 1 1 0 0]\n",
      "[0 1 0 0 1 1 0 1 1 0 0 1]\n",
      "[0 0 1 1 0 1 0 1 1 0 1 0]\n",
      "[0 0 0 0 1 0 1 1 1 1 0 0]\n",
      "-------------------------\n",
      "Coloured symmetries: C3\n",
      "%%%%%%%%%%%%%%%%%%%%%%%%%\n",
      "Colouring 7\n",
      "[0, 1, 2, 9, 8, 13, 0, 14, 13, 6, 9, 1]\n",
      "Defining matrix:\n",
      "[1 0 0 0 0 1 1 1 1 1 0 0]\n",
      "[0 1 0 0 1 1 0 1 1 0 0 1]\n",
      "[0 0 1 1 0 1 0 1 1 0 1 0]\n",
      "[0 0 0 1 1 0 0 1 0 1 1 0]\n",
      "-------------------------\n",
      "Coloured symmetries: C2 x C2\n",
      "%%%%%%%%%%%%%%%%%%%%%%%%%\n"
     ]
    }
   ],
   "source": [
    "#\n",
    "# printing out the DJ-equivalence classes of colouring extensions\n",
    "#\n",
    "count = 0\n",
    "for (v, H) in Sym_QHS:\n",
    "    count = count+1\n",
    "    print(\"Colouring {}\".format(count))\n",
    "    print(v)\n",
    "    print(\"Defining matrix:\")\n",
    "    Lambda = matrix([Colours[i] for i in v]).transpose()\n",
    "    print(Lambda)\n",
    "    print(\"-\"*25)\n",
    "    struct = H.structure_description()\n",
    "    print(\"Coloured symmetries: {}\".format(struct))\n",
    "    print(\"%\"*25)"
   ]
  },
  {
   "cell_type": "code",
   "execution_count": 9,
   "metadata": {},
   "outputs": [
    {
     "name": "stdout",
     "output_type": "stream",
     "text": [
      "The initial defining matrix:\n",
      "[1 0 0 0 0 1 1 1 1 1 0 0]\n",
      "[0 1 0 0 1 1 0 1 1 0 0 1]\n",
      "[0 0 1 1 0 1 0 1 1 0 1 0]\n",
      "[0 0 1 0 0 0 1 0 1 0 0 0]\n",
      "We need an equivalent colouring starting with e_1, e_2, e_3 standard basis vectors ...\n",
      "Its defining matrix:\n",
      "[1 0 0 0 0 1 1 1 1 1 0 0]\n",
      "[0 1 0 0 1 1 0 1 1 0 0 1]\n",
      "[0 0 1 1 0 1 0 1 1 0 1 0]\n",
      "[0 0 0 1 0 1 1 1 0 0 1 0]\n"
     ]
    }
   ],
   "source": [
    "#\n",
    "# colouring extension M from the proof of Theorem 5.5\n",
    "#\n",
    "m0 = [0, 1, 9, 2, 1, 13, 6, 13, 14, 0, 2, 1]\n",
    "M0 = matrix(Colours[i] for i in m0).transpose()\n",
    "print(\"The initial defining matrix:\")\n",
    "print(M0)\n",
    "#\n",
    "# we need an equivalent colouring with the first three \n",
    "# colours being the standard basis vectors e_1, e_2, e_3\n",
    "# since all DJ-equivalence classes have such \"reduced\"\n",
    "# up to the action of GL_4(Z_2) representatives: this \n",
    "# approach allows us to compute more efficiently \n",
    "# \n",
    "C = [[1,0,0,0],\n",
    "     [0,1,0,0],\n",
    "     [0,0,1,0],\n",
    "     [0,0,1,1]]\n",
    "C = matrix(GF(2), C)\n",
    "print(\"We need an equivalent colouring starting with e_1, e_2, e_3 standard basis vectors ...\")\n",
    "print(\"Its defining matrix:\")\n",
    "M = C*M0\n",
    "print(M)\n",
    "m = [Colours.index(v) for v in M.transpose()]"
   ]
  },
  {
   "cell_type": "code",
   "execution_count": 10,
   "metadata": {},
   "outputs": [
    {
     "name": "stdout",
     "output_type": "stream",
     "text": [
      "True\n",
      "True\n"
     ]
    }
   ],
   "source": [
    "#\n",
    "# which DJ-equivalence class does M belong to?\n",
    "#\n",
    "equiv = []\n",
    "for (v, H) in Sym_QHS:\n",
    "    for g in Gamma:\n",
    "        equiv_g = DJ_equivalence(g, v)\n",
    "        if m in equiv_g:\n",
    "            equiv += [(v, H)]\n",
    "#\n",
    "# sanity check: the list \"equiv\" that we found should contain several copies \n",
    "# of the _same_ entry (in this case 3 copies)\n",
    "#\n",
    "print(len(equiv)==3)\n",
    "#\n",
    "print(equiv[0]==equiv[1]==equiv[2])"
   ]
  },
  {
   "cell_type": "code",
   "execution_count": 11,
   "metadata": {},
   "outputs": [
    {
     "data": {
      "text/plain": [
       "True"
      ]
     },
     "execution_count": 11,
     "metadata": {},
     "output_type": "execute_result"
    }
   ],
   "source": [
    "#\n",
    "# the equivalence class of M has index 5 in the list of all \n",
    "# colouring classes (and their coloured symmetyries) Sym_QHS\n",
    "#\n",
    "equiv[0]==Sym_QHS[5]"
   ]
  }
 ],
 "metadata": {
  "kernelspec": {
   "display_name": "SageMath 9.4",
   "language": "sage",
   "name": "sagemath-9.4"
  },
  "language_info": {
   "codemirror_mode": {
    "name": "ipython",
    "version": 3
   },
   "file_extension": ".py",
   "mimetype": "text/x-python",
   "name": "python",
   "nbconvert_exporter": "python",
   "pygments_lexer": "ipython3",
   "version": "3.9.5"
  }
 },
 "nbformat": 4,
 "nbformat_minor": 4
}
